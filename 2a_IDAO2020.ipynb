{
 "cells": [
  {
   "cell_type": "markdown",
   "metadata": {},
   "source": [
    "# Startegi : DOnt normalize"
   ]
  },
  {
   "cell_type": "code",
   "execution_count": 1,
   "metadata": {
    "colab": {
     "base_uri": "https://localhost:8080/",
     "height": 81
    },
    "colab_type": "code",
    "id": "Rbn8ayTHG6al",
    "outputId": "4832c87a-71bd-45e0-bba6-95a3c5550a16"
   },
   "outputs": [
    {
     "name": "stdout",
     "output_type": "stream",
     "text": [
      "2.0.0\n"
     ]
    }
   ],
   "source": [
    "from __future__ import absolute_import, division, print_function, unicode_literals\n",
    "\n",
    "import pathlib\n",
    "\n",
    "import matplotlib.pyplot as plt\n",
    "import pandas as pd\n",
    "import seaborn as sns\n",
    "\n",
    "# !pip install tensorflow==2.0.0-alpha0\n",
    "import tensorflow as tf\n",
    "\n",
    "from tensorflow import keras\n",
    "from tensorflow.keras import layers\n",
    "\n",
    "import numpy as nay\n",
    "print(tf.__version__)"
   ]
  },
  {
   "cell_type": "raw",
   "metadata": {
    "colab": {
     "base_uri": "https://localhost:8080/",
     "height": 124
    },
    "colab_type": "code",
    "id": "-e8gSf_E5Cii",
    "outputId": "8be67bc5-ef67-463c-fa34-56f3ed136ed9"
   },
   "source": [
    "from google.colab import drive\n",
    "drive.mount('/content/drive')"
   ]
  },
  {
   "cell_type": "code",
   "execution_count": 2,
   "metadata": {
    "colab": {},
    "colab_type": "code",
    "id": "h3PoCYMY5Efx"
   },
   "outputs": [],
   "source": [
    "path='data/train.csv'"
   ]
  },
  {
   "cell_type": "code",
   "execution_count": 3,
   "metadata": {
    "colab": {
     "base_uri": "https://localhost:8080/",
     "height": 238
    },
    "colab_type": "code",
    "id": "PYbmmCv65pyI",
    "outputId": "e5e2c15f-0380-441c-c5cd-b1398c631d99"
   },
   "outputs": [
    {
     "data": {
      "text/html": [
       "<div>\n",
       "<style scoped>\n",
       "    .dataframe tbody tr th:only-of-type {\n",
       "        vertical-align: middle;\n",
       "    }\n",
       "\n",
       "    .dataframe tbody tr th {\n",
       "        vertical-align: top;\n",
       "    }\n",
       "\n",
       "    .dataframe thead th {\n",
       "        text-align: right;\n",
       "    }\n",
       "</style>\n",
       "<table border=\"1\" class=\"dataframe\">\n",
       "  <thead>\n",
       "    <tr style=\"text-align: right;\">\n",
       "      <th></th>\n",
       "      <th>x</th>\n",
       "      <th>y</th>\n",
       "      <th>z</th>\n",
       "      <th>x_sim</th>\n",
       "      <th>y_sim</th>\n",
       "      <th>z_sim</th>\n",
       "    </tr>\n",
       "    <tr>\n",
       "      <th>id</th>\n",
       "      <th></th>\n",
       "      <th></th>\n",
       "      <th></th>\n",
       "      <th></th>\n",
       "      <th></th>\n",
       "      <th></th>\n",
       "    </tr>\n",
       "  </thead>\n",
       "  <tbody>\n",
       "    <tr>\n",
       "      <th>0</th>\n",
       "      <td>-8855.823863</td>\n",
       "      <td>13117.780146</td>\n",
       "      <td>-20728.353233</td>\n",
       "      <td>-8843.131454</td>\n",
       "      <td>13138.221690</td>\n",
       "      <td>-20741.615306</td>\n",
       "    </tr>\n",
       "    <tr>\n",
       "      <th>1</th>\n",
       "      <td>-10567.672384</td>\n",
       "      <td>1619.746066</td>\n",
       "      <td>-24451.813271</td>\n",
       "      <td>-10555.500066</td>\n",
       "      <td>1649.289367</td>\n",
       "      <td>-24473.089556</td>\n",
       "    </tr>\n",
       "    <tr>\n",
       "      <th>2</th>\n",
       "      <td>-10578.684043</td>\n",
       "      <td>-10180.467460</td>\n",
       "      <td>-24238.280949</td>\n",
       "      <td>-10571.858472</td>\n",
       "      <td>-10145.939908</td>\n",
       "      <td>-24271.169776</td>\n",
       "    </tr>\n",
       "    <tr>\n",
       "      <th>3</th>\n",
       "      <td>-9148.251857</td>\n",
       "      <td>-20651.437460</td>\n",
       "      <td>-20720.381279</td>\n",
       "      <td>-9149.620794</td>\n",
       "      <td>-20618.200201</td>\n",
       "      <td>-20765.019094</td>\n",
       "    </tr>\n",
       "    <tr>\n",
       "      <th>4</th>\n",
       "      <td>-6719.092336</td>\n",
       "      <td>-28929.061629</td>\n",
       "      <td>-14938.907967</td>\n",
       "      <td>-6729.358857</td>\n",
       "      <td>-28902.271436</td>\n",
       "      <td>-14992.399986</td>\n",
       "    </tr>\n",
       "  </tbody>\n",
       "</table>\n",
       "</div>"
      ],
      "text/plain": [
       "               x             y             z         x_sim         y_sim  \\\n",
       "id                                                                         \n",
       "0   -8855.823863  13117.780146 -20728.353233  -8843.131454  13138.221690   \n",
       "1  -10567.672384   1619.746066 -24451.813271 -10555.500066   1649.289367   \n",
       "2  -10578.684043 -10180.467460 -24238.280949 -10571.858472 -10145.939908   \n",
       "3   -9148.251857 -20651.437460 -20720.381279  -9149.620794 -20618.200201   \n",
       "4   -6719.092336 -28929.061629 -14938.907967  -6729.358857 -28902.271436   \n",
       "\n",
       "           z_sim  \n",
       "id                \n",
       "0  -20741.615306  \n",
       "1  -24473.089556  \n",
       "2  -24271.169776  \n",
       "3  -20765.019094  \n",
       "4  -14992.399986  "
      ]
     },
     "execution_count": 3,
     "metadata": {},
     "output_type": "execute_result"
    }
   ],
   "source": [
    "df=pd.read_csv(path, index_col=0)\n",
    "df=df[['x','y','z','x_sim','y_sim','z_sim']]\n",
    "# df=df.drop('epoch', axis=1)\n",
    "df.head()"
   ]
  },
  {
   "cell_type": "code",
   "execution_count": 4,
   "metadata": {
    "colab": {},
    "colab_type": "code",
    "id": "VxYb_nhZHW8l"
   },
   "outputs": [],
   "source": [
    "mydata=df.copy()"
   ]
  },
  {
   "cell_type": "code",
   "execution_count": 5,
   "metadata": {
    "colab": {
     "base_uri": "https://localhost:8080/",
     "height": 156
    },
    "colab_type": "code",
    "id": "0k5T70585uma",
    "outputId": "4b54a6e6-0039-412e-8f27-14638acbc552"
   },
   "outputs": [
    {
     "data": {
      "text/plain": [
       "x        0\n",
       "y        0\n",
       "z        0\n",
       "x_sim    0\n",
       "y_sim    0\n",
       "z_sim    0\n",
       "dtype: int64"
      ]
     },
     "execution_count": 5,
     "metadata": {},
     "output_type": "execute_result"
    }
   ],
   "source": [
    "mydata.isna().sum()"
   ]
  },
  {
   "cell_type": "code",
   "execution_count": 6,
   "metadata": {
    "colab": {
     "base_uri": "https://localhost:8080/",
     "height": 34
    },
    "colab_type": "code",
    "id": "YF1JPFStHGdl",
    "outputId": "6c48b89c-3c62-4a15-ac41-3ee31a7dc88f"
   },
   "outputs": [
    {
     "data": {
      "text/plain": [
       "(649912, 6)"
      ]
     },
     "execution_count": 6,
     "metadata": {},
     "output_type": "execute_result"
    }
   ],
   "source": [
    "mydata = mydata.dropna()\n",
    "mydata.shape"
   ]
  },
  {
   "cell_type": "code",
   "execution_count": 7,
   "metadata": {
    "colab": {
     "base_uri": "https://localhost:8080/",
     "height": 238
    },
    "colab_type": "code",
    "id": "T0CP20j_HgtQ",
    "outputId": "58768356-c4fa-4fb6-c94f-0f7176b44694"
   },
   "outputs": [
    {
     "data": {
      "text/html": [
       "<div>\n",
       "<style scoped>\n",
       "    .dataframe tbody tr th:only-of-type {\n",
       "        vertical-align: middle;\n",
       "    }\n",
       "\n",
       "    .dataframe tbody tr th {\n",
       "        vertical-align: top;\n",
       "    }\n",
       "\n",
       "    .dataframe thead th {\n",
       "        text-align: right;\n",
       "    }\n",
       "</style>\n",
       "<table border=\"1\" class=\"dataframe\">\n",
       "  <thead>\n",
       "    <tr style=\"text-align: right;\">\n",
       "      <th></th>\n",
       "      <th>x</th>\n",
       "      <th>y</th>\n",
       "      <th>z</th>\n",
       "      <th>x_sim</th>\n",
       "      <th>y_sim</th>\n",
       "      <th>z_sim</th>\n",
       "    </tr>\n",
       "    <tr>\n",
       "      <th>id</th>\n",
       "      <th></th>\n",
       "      <th></th>\n",
       "      <th></th>\n",
       "      <th></th>\n",
       "      <th></th>\n",
       "      <th></th>\n",
       "    </tr>\n",
       "  </thead>\n",
       "  <tbody>\n",
       "    <tr>\n",
       "      <th>1</th>\n",
       "      <td>-10567.672384</td>\n",
       "      <td>1619.746066</td>\n",
       "      <td>-24451.813271</td>\n",
       "      <td>-10555.500066</td>\n",
       "      <td>1649.289367</td>\n",
       "      <td>-24473.089556</td>\n",
       "    </tr>\n",
       "    <tr>\n",
       "      <th>4</th>\n",
       "      <td>-6719.092336</td>\n",
       "      <td>-28929.061629</td>\n",
       "      <td>-14938.907967</td>\n",
       "      <td>-6729.358857</td>\n",
       "      <td>-28902.271436</td>\n",
       "      <td>-14992.399986</td>\n",
       "    </tr>\n",
       "    <tr>\n",
       "      <th>15</th>\n",
       "      <td>17281.246143</td>\n",
       "      <td>-2011.121378</td>\n",
       "      <td>39970.739873</td>\n",
       "      <td>17241.395285</td>\n",
       "      <td>-2016.770194</td>\n",
       "      <td>39958.759155</td>\n",
       "    </tr>\n",
       "    <tr>\n",
       "      <th>22</th>\n",
       "      <td>-1447.724638</td>\n",
       "      <td>28032.228987</td>\n",
       "      <td>-3918.192838</td>\n",
       "      <td>-1461.093061</td>\n",
       "      <td>28026.085525</td>\n",
       "      <td>-3959.767549</td>\n",
       "    </tr>\n",
       "    <tr>\n",
       "      <th>26</th>\n",
       "      <td>-10583.521489</td>\n",
       "      <td>-10145.003880</td>\n",
       "      <td>-24243.775722</td>\n",
       "      <td>-10574.016380</td>\n",
       "      <td>-10147.909472</td>\n",
       "      <td>-24270.149411</td>\n",
       "    </tr>\n",
       "  </tbody>\n",
       "</table>\n",
       "</div>"
      ],
      "text/plain": [
       "               x             y             z         x_sim         y_sim  \\\n",
       "id                                                                         \n",
       "1  -10567.672384   1619.746066 -24451.813271 -10555.500066   1649.289367   \n",
       "4   -6719.092336 -28929.061629 -14938.907967  -6729.358857 -28902.271436   \n",
       "15  17281.246143  -2011.121378  39970.739873  17241.395285  -2016.770194   \n",
       "22  -1447.724638  28032.228987  -3918.192838  -1461.093061  28026.085525   \n",
       "26 -10583.521489 -10145.003880 -24243.775722 -10574.016380 -10147.909472   \n",
       "\n",
       "           z_sim  \n",
       "id                \n",
       "1  -24473.089556  \n",
       "4  -14992.399986  \n",
       "15  39958.759155  \n",
       "22  -3959.767549  \n",
       "26 -24270.149411  "
      ]
     },
     "execution_count": 7,
     "metadata": {},
     "output_type": "execute_result"
    }
   ],
   "source": [
    "train_mydata = mydata.sample(frac=0.8,random_state=0)\n",
    "test_mydata = mydata.drop(train_mydata.index)\n",
    "test_mydata.head()"
   ]
  },
  {
   "cell_type": "code",
   "execution_count": 8,
   "metadata": {
    "colab": {
     "base_uri": "https://localhost:8080/",
     "height": 255
    },
    "colab_type": "code",
    "id": "JSfCvDt7HjKZ",
    "outputId": "5684a04b-a1bf-429b-d738-1a57b3950811"
   },
   "outputs": [
    {
     "name": "stdout",
     "output_type": "stream",
     "text": [
      "(519930, 6) (129982, 6)\n"
     ]
    },
    {
     "data": {
      "text/html": [
       "<div>\n",
       "<style scoped>\n",
       "    .dataframe tbody tr th:only-of-type {\n",
       "        vertical-align: middle;\n",
       "    }\n",
       "\n",
       "    .dataframe tbody tr th {\n",
       "        vertical-align: top;\n",
       "    }\n",
       "\n",
       "    .dataframe thead th {\n",
       "        text-align: right;\n",
       "    }\n",
       "</style>\n",
       "<table border=\"1\" class=\"dataframe\">\n",
       "  <thead>\n",
       "    <tr style=\"text-align: right;\">\n",
       "      <th></th>\n",
       "      <th>x</th>\n",
       "      <th>y</th>\n",
       "      <th>z</th>\n",
       "      <th>x_sim</th>\n",
       "      <th>y_sim</th>\n",
       "      <th>z_sim</th>\n",
       "    </tr>\n",
       "    <tr>\n",
       "      <th>id</th>\n",
       "      <th></th>\n",
       "      <th></th>\n",
       "      <th></th>\n",
       "      <th></th>\n",
       "      <th></th>\n",
       "      <th></th>\n",
       "    </tr>\n",
       "  </thead>\n",
       "  <tbody>\n",
       "    <tr>\n",
       "      <th>162906</th>\n",
       "      <td>-22445.306373</td>\n",
       "      <td>5848.139687</td>\n",
       "      <td>805.906588</td>\n",
       "      <td>-21786.206588</td>\n",
       "      <td>7375.036638</td>\n",
       "      <td>391.178832</td>\n",
       "    </tr>\n",
       "    <tr>\n",
       "      <th>123662</th>\n",
       "      <td>-9086.781838</td>\n",
       "      <td>7654.307240</td>\n",
       "      <td>-6721.299832</td>\n",
       "      <td>-9545.479053</td>\n",
       "      <td>7482.025507</td>\n",
       "      <td>-6387.708079</td>\n",
       "    </tr>\n",
       "    <tr>\n",
       "      <th>901720</th>\n",
       "      <td>-33475.100342</td>\n",
       "      <td>-37591.455624</td>\n",
       "      <td>-3269.507831</td>\n",
       "      <td>-33263.131053</td>\n",
       "      <td>-37783.198553</td>\n",
       "      <td>-3617.165346</td>\n",
       "    </tr>\n",
       "    <tr>\n",
       "      <th>308669</th>\n",
       "      <td>11617.034853</td>\n",
       "      <td>2343.826977</td>\n",
       "      <td>-1821.565305</td>\n",
       "      <td>10718.558812</td>\n",
       "      <td>5174.769686</td>\n",
       "      <td>-1069.308627</td>\n",
       "    </tr>\n",
       "    <tr>\n",
       "      <th>1154759</th>\n",
       "      <td>25113.931453</td>\n",
       "      <td>-473.679010</td>\n",
       "      <td>41867.498593</td>\n",
       "      <td>19229.123354</td>\n",
       "      <td>12147.342145</td>\n",
       "      <td>31835.248429</td>\n",
       "    </tr>\n",
       "  </tbody>\n",
       "</table>\n",
       "</div>"
      ],
      "text/plain": [
       "                    x             y             z         x_sim         y_sim  \\\n",
       "id                                                                              \n",
       "162906  -22445.306373   5848.139687    805.906588 -21786.206588   7375.036638   \n",
       "123662   -9086.781838   7654.307240  -6721.299832  -9545.479053   7482.025507   \n",
       "901720  -33475.100342 -37591.455624  -3269.507831 -33263.131053 -37783.198553   \n",
       "308669   11617.034853   2343.826977  -1821.565305  10718.558812   5174.769686   \n",
       "1154759  25113.931453   -473.679010  41867.498593  19229.123354  12147.342145   \n",
       "\n",
       "                z_sim  \n",
       "id                     \n",
       "162906     391.178832  \n",
       "123662   -6387.708079  \n",
       "901720   -3617.165346  \n",
       "308669   -1069.308627  \n",
       "1154759  31835.248429  "
      ]
     },
     "execution_count": 8,
     "metadata": {},
     "output_type": "execute_result"
    }
   ],
   "source": [
    "#a=train_mydata.shape\n",
    "#b=test_mydata.shape\n",
    "#print(a,b)\n",
    "print(train_mydata.shape, test_mydata.shape)\n",
    "train_mydata.head()"
   ]
  },
  {
   "cell_type": "code",
   "execution_count": 15,
   "metadata": {
    "colab": {
     "base_uri": "https://localhost:8080/",
     "height": 175
    },
    "colab_type": "code",
    "id": "W3AMDSXnHqTE",
    "outputId": "07af24c8-5fbf-4178-e7e6-ae3149e687da"
   },
   "outputs": [
    {
     "data": {
      "text/html": [
       "<div>\n",
       "<style scoped>\n",
       "    .dataframe tbody tr th:only-of-type {\n",
       "        vertical-align: middle;\n",
       "    }\n",
       "\n",
       "    .dataframe tbody tr th {\n",
       "        vertical-align: top;\n",
       "    }\n",
       "\n",
       "    .dataframe thead th {\n",
       "        text-align: right;\n",
       "    }\n",
       "</style>\n",
       "<table border=\"1\" class=\"dataframe\">\n",
       "  <thead>\n",
       "    <tr style=\"text-align: right;\">\n",
       "      <th></th>\n",
       "      <th>count</th>\n",
       "      <th>mean</th>\n",
       "      <th>std</th>\n",
       "      <th>min</th>\n",
       "      <th>25%</th>\n",
       "      <th>50%</th>\n",
       "      <th>75%</th>\n",
       "      <th>max</th>\n",
       "    </tr>\n",
       "  </thead>\n",
       "  <tbody>\n",
       "    <tr>\n",
       "      <th>x_sim</th>\n",
       "      <td>519930.0</td>\n",
       "      <td>-941.331006</td>\n",
       "      <td>25387.037253</td>\n",
       "      <td>-255037.952966</td>\n",
       "      <td>-13139.771199</td>\n",
       "      <td>-612.877803</td>\n",
       "      <td>11194.372299</td>\n",
       "      <td>200961.158000</td>\n",
       "    </tr>\n",
       "    <tr>\n",
       "      <th>y_sim</th>\n",
       "      <td>519930.0</td>\n",
       "      <td>319.853163</td>\n",
       "      <td>25603.245579</td>\n",
       "      <td>-281784.430040</td>\n",
       "      <td>-11758.892200</td>\n",
       "      <td>501.609913</td>\n",
       "      <td>12558.620911</td>\n",
       "      <td>209619.553857</td>\n",
       "    </tr>\n",
       "    <tr>\n",
       "      <th>z_sim</th>\n",
       "      <td>519930.0</td>\n",
       "      <td>-77.075471</td>\n",
       "      <td>20670.833347</td>\n",
       "      <td>-180250.922287</td>\n",
       "      <td>-7963.461284</td>\n",
       "      <td>57.093264</td>\n",
       "      <td>8253.028193</td>\n",
       "      <td>198526.091552</td>\n",
       "    </tr>\n",
       "  </tbody>\n",
       "</table>\n",
       "</div>"
      ],
      "text/plain": [
       "          count        mean           std            min           25%  \\\n",
       "x_sim  519930.0 -941.331006  25387.037253 -255037.952966 -13139.771199   \n",
       "y_sim  519930.0  319.853163  25603.245579 -281784.430040 -11758.892200   \n",
       "z_sim  519930.0  -77.075471  20670.833347 -180250.922287  -7963.461284   \n",
       "\n",
       "              50%           75%            max  \n",
       "x_sim -612.877803  11194.372299  200961.158000  \n",
       "y_sim  501.609913  12558.620911  209619.553857  \n",
       "z_sim   57.093264   8253.028193  198526.091552  "
      ]
     },
     "execution_count": 15,
     "metadata": {},
     "output_type": "execute_result"
    }
   ],
   "source": [
    "label=['Vx','Vy','Vz','x','y','z'][3:]\n",
    "train_stats = train_mydata.describe()\n",
    "for i in label:\n",
    "  train_stats.pop(i)\n",
    "train_stats = train_stats.transpose()\n",
    "train_stats"
   ]
  },
  {
   "cell_type": "code",
   "execution_count": 10,
   "metadata": {
    "colab": {},
    "colab_type": "code",
    "id": "SXvnA1GRH-uU"
   },
   "outputs": [],
   "source": [
    "train_labels = nay.array([i for i in train_mydata[label].values])\n",
    "test_labels = nay.array([i for i in test_mydata[label].values])"
   ]
  },
  {
   "cell_type": "code",
   "execution_count": 11,
   "metadata": {
    "colab": {
     "base_uri": "https://localhost:8080/",
     "height": 34
    },
    "colab_type": "code",
    "id": "5rNeN83iIgvv",
    "outputId": "0e52b259-25d3-44c1-9ceb-ae5b3f706277"
   },
   "outputs": [
    {
     "name": "stdout",
     "output_type": "stream",
     "text": [
      "[-22445.30637347   5848.13968719    805.90658772] [-10567.67238391   1619.74606635 -24451.81327102]\n"
     ]
    }
   ],
   "source": [
    "print(train_labels[0], test_labels[0])"
   ]
  },
  {
   "cell_type": "code",
   "execution_count": 13,
   "metadata": {
    "colab": {},
    "colab_type": "code",
    "id": "q4o1j-ryJ8oL"
   },
   "outputs": [],
   "source": [
    "normed_train_data = train_mydata.drop(label, axis=1)\n",
    "normed_test_data = test_mydata.drop(label, axis=1)"
   ]
  },
  {
   "cell_type": "code",
   "execution_count": 16,
   "metadata": {
    "colab": {
     "base_uri": "https://localhost:8080/",
     "height": 175
    },
    "colab_type": "code",
    "id": "9dOPEYESOYdN",
    "outputId": "cdfd82c2-c849-4fb4-8b5f-edbf79ceccd8"
   },
   "outputs": [
    {
     "data": {
      "text/html": [
       "<div>\n",
       "<style scoped>\n",
       "    .dataframe tbody tr th:only-of-type {\n",
       "        vertical-align: middle;\n",
       "    }\n",
       "\n",
       "    .dataframe tbody tr th {\n",
       "        vertical-align: top;\n",
       "    }\n",
       "\n",
       "    .dataframe thead th {\n",
       "        text-align: right;\n",
       "    }\n",
       "</style>\n",
       "<table border=\"1\" class=\"dataframe\">\n",
       "  <thead>\n",
       "    <tr style=\"text-align: right;\">\n",
       "      <th></th>\n",
       "      <th>count</th>\n",
       "      <th>mean</th>\n",
       "      <th>std</th>\n",
       "      <th>min</th>\n",
       "      <th>25%</th>\n",
       "      <th>50%</th>\n",
       "      <th>75%</th>\n",
       "      <th>max</th>\n",
       "    </tr>\n",
       "  </thead>\n",
       "  <tbody>\n",
       "    <tr>\n",
       "      <th>x_sim</th>\n",
       "      <td>129982.0</td>\n",
       "      <td>-983.229404</td>\n",
       "      <td>25322.235545</td>\n",
       "      <td>-254874.999186</td>\n",
       "      <td>-13218.494933</td>\n",
       "      <td>-653.633569</td>\n",
       "      <td>11176.007672</td>\n",
       "      <td>200638.759019</td>\n",
       "    </tr>\n",
       "    <tr>\n",
       "      <th>y_sim</th>\n",
       "      <td>129982.0</td>\n",
       "      <td>343.373409</td>\n",
       "      <td>25624.462532</td>\n",
       "      <td>-282851.387908</td>\n",
       "      <td>-11649.250640</td>\n",
       "      <td>604.536998</td>\n",
       "      <td>12514.540291</td>\n",
       "      <td>209108.621952</td>\n",
       "    </tr>\n",
       "    <tr>\n",
       "      <th>z_sim</th>\n",
       "      <td>129982.0</td>\n",
       "      <td>-90.531541</td>\n",
       "      <td>20656.682202</td>\n",
       "      <td>-178436.101946</td>\n",
       "      <td>-7934.120403</td>\n",
       "      <td>55.969406</td>\n",
       "      <td>8173.489100</td>\n",
       "      <td>197982.276381</td>\n",
       "    </tr>\n",
       "  </tbody>\n",
       "</table>\n",
       "</div>"
      ],
      "text/plain": [
       "          count        mean           std            min           25%  \\\n",
       "x_sim  129982.0 -983.229404  25322.235545 -254874.999186 -13218.494933   \n",
       "y_sim  129982.0  343.373409  25624.462532 -282851.387908 -11649.250640   \n",
       "z_sim  129982.0  -90.531541  20656.682202 -178436.101946  -7934.120403   \n",
       "\n",
       "              50%           75%            max  \n",
       "x_sim -653.633569  11176.007672  200638.759019  \n",
       "y_sim  604.536998  12514.540291  209108.621952  \n",
       "z_sim   55.969406   8173.489100  197982.276381  "
      ]
     },
     "execution_count": 16,
     "metadata": {},
     "output_type": "execute_result"
    }
   ],
   "source": [
    "a=normed_test_data.describe()\n",
    "a.transpose()"
   ]
  },
  {
   "cell_type": "code",
   "execution_count": 17,
   "metadata": {
    "colab": {
     "base_uri": "https://localhost:8080/",
     "height": 34
    },
    "colab_type": "code",
    "id": "FkGwXg52PbsC",
    "outputId": "2d7ec35c-355c-4922-c7d8-97ee562f3375"
   },
   "outputs": [
    {
     "data": {
      "text/plain": [
       "Index(['x_sim', 'y_sim', 'z_sim'], dtype='object')"
      ]
     },
     "execution_count": 17,
     "metadata": {},
     "output_type": "execute_result"
    }
   ],
   "source": [
    "normed_test_data.keys()"
   ]
  },
  {
   "cell_type": "code",
   "execution_count": 18,
   "metadata": {
    "colab": {
     "base_uri": "https://localhost:8080/",
     "height": 332
    },
    "colab_type": "code",
    "id": "jPKgbZmgQe3X",
    "outputId": "31f7a3da-37cd-490d-d90b-d52e745efdce"
   },
   "outputs": [
    {
     "name": "stdout",
     "output_type": "stream",
     "text": [
      "Model: \"sequential\"\n",
      "_________________________________________________________________\n",
      "Layer (type)                 Output Shape              Param #   \n",
      "=================================================================\n",
      "dense (Dense)                (None, 10)                40        \n",
      "_________________________________________________________________\n",
      "dense_1 (Dense)              (None, 10)                110       \n",
      "_________________________________________________________________\n",
      "dense_2 (Dense)              (None, 3)                 33        \n",
      "=================================================================\n",
      "Total params: 183\n",
      "Trainable params: 183\n",
      "Non-trainable params: 0\n",
      "_________________________________________________________________\n"
     ]
    }
   ],
   "source": [
    "model=keras.Sequential()\n",
    "model.add(layers.Dense(10, activation='relu', input_shape=[len(normed_train_data.keys())]))\n",
    "model.add(layers.Dense(10, activation='relu'))\n",
    "model.add(layers.Dense(3))\n",
    "model.summary()"
   ]
  },
  {
   "cell_type": "code",
   "execution_count": 19,
   "metadata": {
    "colab": {},
    "colab_type": "code",
    "id": "XAz-n_eUPFT0"
   },
   "outputs": [],
   "source": [
    "optimizer = tf.keras.optimizers.RMSprop(0.001)\n",
    "model.compile(loss='mse',\n",
    "                optimizer=optimizer,\n",
    "                metrics=['mae', 'mse'])"
   ]
  },
  {
   "cell_type": "code",
   "execution_count": 20,
   "metadata": {
    "colab": {
     "base_uri": "https://localhost:8080/",
     "height": 411
    },
    "colab_type": "code",
    "id": "2lj5Zbn1PYP1",
    "outputId": "0cc4c991-9c0e-4b04-d26f-aeea2410ae99"
   },
   "outputs": [
    {
     "name": "stdout",
     "output_type": "stream",
     "text": [
      "WARNING:tensorflow:Falling back from v2 loop because of error: Failed to find data adapter that can handle input: <class 'pandas.core.frame.DataFrame'>, <class 'NoneType'>\n",
      "Train on 519930 samples, validate on 129982 samples\n",
      "Epoch 1/10\n",
      "519930/519930 [==============================] - 17s 32us/sample - loss: 55106704.9124 - mae: 3502.5347 - mse: 55106484.0000 - val_loss: 45215118.0579 - val_mae: 3187.4583 - val_mse: 45215104.0000\n",
      "Epoch 2/10\n",
      "519930/519930 [==============================] - 17s 32us/sample - loss: 45984251.7743 - mae: 3125.4290 - mse: 45984324.0000 - val_loss: 45179350.4186 - val_mae: 3114.9644 - val_mse: 45179376.0000\n",
      "Epoch 3/10\n",
      "519930/519930 [==============================] - 16s 31us/sample - loss: 45960630.5584 - mae: 3126.3164 - mse: 45960532.0000 - val_loss: 45138151.9014 - val_mae: 3126.4585 - val_mse: 45138092.0000\n",
      "Epoch 4/10\n",
      "519930/519930 [==============================] - 15s 29us/sample - loss: 45961500.5848 - mae: 3128.1914 - mse: 45961652.0000 - val_loss: 45394587.1939 - val_mae: 3052.7561 - val_mse: 45394596.0000\n",
      "Epoch 5/10\n",
      "519930/519930 [==============================] - 17s 33us/sample - loss: 45958672.0721 - mae: 3127.5012 - mse: 45958648.0000 - val_loss: 45417622.1960 - val_mae: 3141.0747 - val_mse: 45417584.0000\n",
      "Epoch 6/10\n",
      "519930/519930 [==============================] - 17s 32us/sample - loss: 45962372.1330 - mae: 3125.1201 - mse: 45962240.0000 - val_loss: 45101034.8789 - val_mae: 3127.0920 - val_mse: 45101048.0000\n",
      "Epoch 7/10\n",
      "519930/519930 [==============================] - 16s 32us/sample - loss: 45963929.3924 - mae: 3125.2834 - mse: 45964096.0000 - val_loss: 45284985.7205 - val_mae: 3121.5901 - val_mse: 45285036.0000\n",
      "Epoch 8/10\n",
      "519930/519930 [==============================] - 16s 31us/sample - loss: 45961714.3800 - mae: 3124.7546 - mse: 45961848.0000 - val_loss: 45377562.3130 - val_mae: 3069.2498 - val_mse: 45377524.0000\n",
      "Epoch 9/10\n",
      "519930/519930 [==============================] - 17s 33us/sample - loss: 45968700.7598 - mae: 3124.3342 - mse: 45968656.0000 - val_loss: 45193697.3242 - val_mae: 3098.2725 - val_mse: 45193736.0000\n",
      "Epoch 10/10\n",
      "519930/519930 [==============================] - 16s 30us/sample - loss: 45972115.7892 - mae: 3124.5266 - mse: 45972100.0000 - val_loss: 45562090.7872 - val_mae: 3102.7588 - val_mse: 45562152.0000\n"
     ]
    },
    {
     "data": {
      "text/plain": [
       "<tensorflow.python.keras.callbacks.History at 0x1a45df4f28>"
      ]
     },
     "execution_count": 20,
     "metadata": {},
     "output_type": "execute_result"
    }
   ],
   "source": [
    "model.fit(normed_train_data, train_labels, validation_data=(normed_test_data, test_labels), epochs=10)"
   ]
  },
  {
   "cell_type": "code",
   "execution_count": 25,
   "metadata": {
    "colab": {
     "base_uri": "https://localhost:8080/",
     "height": 698
    },
    "colab_type": "code",
    "id": "SqD7wK2XRKs7",
    "outputId": "a6516fa7-cdbd-418e-ac77-3d92c8999ed0"
   },
   "outputs": [
    {
     "name": "stdout",
     "output_type": "stream",
     "text": [
      "WARNING:tensorflow:Falling back from v2 loop because of error: Failed to find data adapter that can handle input: <class 'pandas.core.frame.DataFrame'>, <class 'NoneType'>\n"
     ]
    }
   ],
   "source": [
    "test_predictions = model.predict(normed_train_data)"
   ]
  },
  {
   "cell_type": "code",
   "execution_count": 26,
   "metadata": {
    "colab": {},
    "colab_type": "code",
    "id": "9_b5KIxzeKUO"
   },
   "outputs": [
    {
     "data": {
      "text/plain": [
       "array([[-20358.213 ,   6864.3745,   1169.06  ],\n",
       "       [ -8586.22  ,   6523.9907,  -6326.427 ],\n",
       "       [-31493.857 , -37232.113 ,  -3881.0427],\n",
       "       ...,\n",
       "       [  6032.049 ,  -7238.6045, -18514.967 ],\n",
       "       [  1746.001 ,  32188.562 , -42973.848 ],\n",
       "       [-29767.805 , -33209.297 ,  -2136.344 ]], dtype=float32)"
      ]
     },
     "execution_count": 26,
     "metadata": {},
     "output_type": "execute_result"
    }
   ],
   "source": [
    "test_predictions"
   ]
  },
  {
   "cell_type": "code",
   "execution_count": 27,
   "metadata": {},
   "outputs": [
    {
     "data": {
      "text/plain": [
       "array([[-10567.67238391,   1619.74606635, -24451.81327102],\n",
       "       [ -6719.09233577, -28929.06162891, -14938.90796702],\n",
       "       [ 17281.24614306,  -2011.12137796,  39970.73987322],\n",
       "       ...,\n",
       "       [  6809.32472235, -27094.76801954,    743.39273636],\n",
       "       [  2071.20677085, -28307.11297851,   1753.73003927],\n",
       "       [-23363.04479387,  -2906.07132041,   4747.2473861 ]])"
      ]
     },
     "execution_count": 27,
     "metadata": {},
     "output_type": "execute_result"
    }
   ],
   "source": [
    "test_labels"
   ]
  },
  {
   "cell_type": "code",
   "execution_count": null,
   "metadata": {},
   "outputs": [],
   "source": []
  }
 ],
 "metadata": {
  "colab": {
   "name": "2.IDAO2020",
   "provenance": []
  },
  "kernelspec": {
   "display_name": "Python 3",
   "language": "python",
   "name": "python3"
  },
  "language_info": {
   "codemirror_mode": {
    "name": "ipython",
    "version": 3
   },
   "file_extension": ".py",
   "mimetype": "text/x-python",
   "name": "python",
   "nbconvert_exporter": "python",
   "pygments_lexer": "ipython3",
   "version": "3.7.3"
  }
 },
 "nbformat": 4,
 "nbformat_minor": 1
}
