{
 "cells": [
  {
   "cell_type": "markdown",
   "metadata": {},
   "source": [
    "# Startegi : Using each label using neural network(regression)\n",
    "## each label x-> x"
   ]
  },
  {
   "cell_type": "code",
   "execution_count": 1,
   "metadata": {
    "colab": {
     "base_uri": "https://localhost:8080/",
     "height": 81
    },
    "colab_type": "code",
    "id": "Rbn8ayTHG6al",
    "outputId": "4832c87a-71bd-45e0-bba6-95a3c5550a16"
   },
   "outputs": [
    {
     "name": "stderr",
     "output_type": "stream",
     "text": [
      "Using TensorFlow backend.\n"
     ]
    }
   ],
   "source": [
    "import seaborn as sb\n",
    "import matplotlib.pyplot as plt\n",
    "import pandas as pd\n",
    "import numpy as np\n",
    "from keras.callbacks import ModelCheckpoint\n",
    "from keras.models import Sequential\n",
    "from keras.layers import Dense, Activation, Flatten\n",
    "from sklearn.model_selection import train_test_split\n",
    "from sklearn.ensemble import RandomForestRegressor\n",
    "from sklearn.metrics import mean_absolute_error \n",
    "import warnings \n",
    "warnings.filterwarnings('ignore')\n",
    "warnings.filterwarnings('ignore', category=DeprecationWarning)\n",
    "from xgboost import XGBRegressor"
   ]
  },
  {
   "cell_type": "raw",
   "metadata": {
    "colab": {
     "base_uri": "https://localhost:8080/",
     "height": 124
    },
    "colab_type": "code",
    "id": "-e8gSf_E5Cii",
    "outputId": "8be67bc5-ef67-463c-fa34-56f3ed136ed9"
   },
   "source": [
    "from google.colab import drive\n",
    "drive.mount('/content/drive')"
   ]
  },
  {
   "cell_type": "code",
   "execution_count": 2,
   "metadata": {
    "colab": {},
    "colab_type": "code",
    "id": "h3PoCYMY5Efx"
   },
   "outputs": [],
   "source": [
    "path='data/train.csv'"
   ]
  },
  {
   "cell_type": "code",
   "execution_count": 3,
   "metadata": {
    "colab": {
     "base_uri": "https://localhost:8080/",
     "height": 238
    },
    "colab_type": "code",
    "id": "PYbmmCv65pyI",
    "outputId": "e5e2c15f-0380-441c-c5cd-b1398c631d99"
   },
   "outputs": [
    {
     "data": {
      "text/html": [
       "<div>\n",
       "<style scoped>\n",
       "    .dataframe tbody tr th:only-of-type {\n",
       "        vertical-align: middle;\n",
       "    }\n",
       "\n",
       "    .dataframe tbody tr th {\n",
       "        vertical-align: top;\n",
       "    }\n",
       "\n",
       "    .dataframe thead th {\n",
       "        text-align: right;\n",
       "    }\n",
       "</style>\n",
       "<table border=\"1\" class=\"dataframe\">\n",
       "  <thead>\n",
       "    <tr style=\"text-align: right;\">\n",
       "      <th></th>\n",
       "      <th>x</th>\n",
       "      <th>y</th>\n",
       "      <th>z</th>\n",
       "      <th>x_sim</th>\n",
       "      <th>y_sim</th>\n",
       "      <th>z_sim</th>\n",
       "      <th>sat_id</th>\n",
       "    </tr>\n",
       "    <tr>\n",
       "      <th>id</th>\n",
       "      <th></th>\n",
       "      <th></th>\n",
       "      <th></th>\n",
       "      <th></th>\n",
       "      <th></th>\n",
       "      <th></th>\n",
       "      <th></th>\n",
       "    </tr>\n",
       "  </thead>\n",
       "  <tbody>\n",
       "    <tr>\n",
       "      <th>0</th>\n",
       "      <td>-8855.823863</td>\n",
       "      <td>13117.780146</td>\n",
       "      <td>-20728.353233</td>\n",
       "      <td>-8843.131454</td>\n",
       "      <td>13138.221690</td>\n",
       "      <td>-20741.615306</td>\n",
       "      <td>0</td>\n",
       "    </tr>\n",
       "    <tr>\n",
       "      <th>1</th>\n",
       "      <td>-10567.672384</td>\n",
       "      <td>1619.746066</td>\n",
       "      <td>-24451.813271</td>\n",
       "      <td>-10555.500066</td>\n",
       "      <td>1649.289367</td>\n",
       "      <td>-24473.089556</td>\n",
       "      <td>0</td>\n",
       "    </tr>\n",
       "    <tr>\n",
       "      <th>2</th>\n",
       "      <td>-10578.684043</td>\n",
       "      <td>-10180.467460</td>\n",
       "      <td>-24238.280949</td>\n",
       "      <td>-10571.858472</td>\n",
       "      <td>-10145.939908</td>\n",
       "      <td>-24271.169776</td>\n",
       "      <td>0</td>\n",
       "    </tr>\n",
       "    <tr>\n",
       "      <th>3</th>\n",
       "      <td>-9148.251857</td>\n",
       "      <td>-20651.437460</td>\n",
       "      <td>-20720.381279</td>\n",
       "      <td>-9149.620794</td>\n",
       "      <td>-20618.200201</td>\n",
       "      <td>-20765.019094</td>\n",
       "      <td>0</td>\n",
       "    </tr>\n",
       "    <tr>\n",
       "      <th>4</th>\n",
       "      <td>-6719.092336</td>\n",
       "      <td>-28929.061629</td>\n",
       "      <td>-14938.907967</td>\n",
       "      <td>-6729.358857</td>\n",
       "      <td>-28902.271436</td>\n",
       "      <td>-14992.399986</td>\n",
       "      <td>0</td>\n",
       "    </tr>\n",
       "  </tbody>\n",
       "</table>\n",
       "</div>"
      ],
      "text/plain": [
       "               x             y             z         x_sim         y_sim  \\\n",
       "id                                                                         \n",
       "0   -8855.823863  13117.780146 -20728.353233  -8843.131454  13138.221690   \n",
       "1  -10567.672384   1619.746066 -24451.813271 -10555.500066   1649.289367   \n",
       "2  -10578.684043 -10180.467460 -24238.280949 -10571.858472 -10145.939908   \n",
       "3   -9148.251857 -20651.437460 -20720.381279  -9149.620794 -20618.200201   \n",
       "4   -6719.092336 -28929.061629 -14938.907967  -6729.358857 -28902.271436   \n",
       "\n",
       "           z_sim  sat_id  \n",
       "id                        \n",
       "0  -20741.615306       0  \n",
       "1  -24473.089556       0  \n",
       "2  -24271.169776       0  \n",
       "3  -20765.019094       0  \n",
       "4  -14992.399986       0  "
      ]
     },
     "execution_count": 3,
     "metadata": {},
     "output_type": "execute_result"
    }
   ],
   "source": [
    "df=pd.read_csv(path, index_col=0)\n",
    "df=df[['x','y','z','x_sim','y_sim','z_sim', 'sat_id']]\n",
    "# df=df.drop('epoch', axis=1)\n",
    "df.head()"
   ]
  },
  {
   "cell_type": "code",
   "execution_count": 4,
   "metadata": {
    "colab": {},
    "colab_type": "code",
    "id": "VxYb_nhZHW8l"
   },
   "outputs": [],
   "source": [
    "mydata=df.copy()"
   ]
  },
  {
   "cell_type": "code",
   "execution_count": 5,
   "metadata": {
    "colab": {
     "base_uri": "https://localhost:8080/",
     "height": 156
    },
    "colab_type": "code",
    "id": "0k5T70585uma",
    "outputId": "4b54a6e6-0039-412e-8f27-14638acbc552"
   },
   "outputs": [
    {
     "data": {
      "text/plain": [
       "x         0\n",
       "y         0\n",
       "z         0\n",
       "x_sim     0\n",
       "y_sim     0\n",
       "z_sim     0\n",
       "sat_id    0\n",
       "dtype: int64"
      ]
     },
     "execution_count": 5,
     "metadata": {},
     "output_type": "execute_result"
    }
   ],
   "source": [
    "mydata.isna().sum()"
   ]
  },
  {
   "cell_type": "code",
   "execution_count": 6,
   "metadata": {
    "colab": {
     "base_uri": "https://localhost:8080/",
     "height": 34
    },
    "colab_type": "code",
    "id": "YF1JPFStHGdl",
    "outputId": "6c48b89c-3c62-4a15-ac41-3ee31a7dc88f"
   },
   "outputs": [
    {
     "data": {
      "text/plain": [
       "(649912, 7)"
      ]
     },
     "execution_count": 6,
     "metadata": {},
     "output_type": "execute_result"
    }
   ],
   "source": [
    "mydata = mydata.dropna()\n",
    "mydata.shape"
   ]
  },
  {
   "cell_type": "code",
   "execution_count": 7,
   "metadata": {
    "colab": {
     "base_uri": "https://localhost:8080/",
     "height": 238
    },
    "colab_type": "code",
    "id": "T0CP20j_HgtQ",
    "outputId": "58768356-c4fa-4fb6-c94f-0f7176b44694"
   },
   "outputs": [
    {
     "data": {
      "text/html": [
       "<div>\n",
       "<style scoped>\n",
       "    .dataframe tbody tr th:only-of-type {\n",
       "        vertical-align: middle;\n",
       "    }\n",
       "\n",
       "    .dataframe tbody tr th {\n",
       "        vertical-align: top;\n",
       "    }\n",
       "\n",
       "    .dataframe thead th {\n",
       "        text-align: right;\n",
       "    }\n",
       "</style>\n",
       "<table border=\"1\" class=\"dataframe\">\n",
       "  <thead>\n",
       "    <tr style=\"text-align: right;\">\n",
       "      <th></th>\n",
       "      <th>x</th>\n",
       "      <th>y</th>\n",
       "      <th>z</th>\n",
       "      <th>x_sim</th>\n",
       "      <th>y_sim</th>\n",
       "      <th>z_sim</th>\n",
       "      <th>sat_id</th>\n",
       "    </tr>\n",
       "    <tr>\n",
       "      <th>id</th>\n",
       "      <th></th>\n",
       "      <th></th>\n",
       "      <th></th>\n",
       "      <th></th>\n",
       "      <th></th>\n",
       "      <th></th>\n",
       "      <th></th>\n",
       "    </tr>\n",
       "  </thead>\n",
       "  <tbody>\n",
       "    <tr>\n",
       "      <th>1</th>\n",
       "      <td>-10567.672384</td>\n",
       "      <td>1619.746066</td>\n",
       "      <td>-24451.813271</td>\n",
       "      <td>-10555.500066</td>\n",
       "      <td>1649.289367</td>\n",
       "      <td>-24473.089556</td>\n",
       "      <td>0</td>\n",
       "    </tr>\n",
       "    <tr>\n",
       "      <th>4</th>\n",
       "      <td>-6719.092336</td>\n",
       "      <td>-28929.061629</td>\n",
       "      <td>-14938.907967</td>\n",
       "      <td>-6729.358857</td>\n",
       "      <td>-28902.271436</td>\n",
       "      <td>-14992.399986</td>\n",
       "      <td>0</td>\n",
       "    </tr>\n",
       "    <tr>\n",
       "      <th>15</th>\n",
       "      <td>17281.246143</td>\n",
       "      <td>-2011.121378</td>\n",
       "      <td>39970.739873</td>\n",
       "      <td>17241.395285</td>\n",
       "      <td>-2016.770194</td>\n",
       "      <td>39958.759155</td>\n",
       "      <td>0</td>\n",
       "    </tr>\n",
       "    <tr>\n",
       "      <th>22</th>\n",
       "      <td>-1447.724638</td>\n",
       "      <td>28032.228987</td>\n",
       "      <td>-3918.192838</td>\n",
       "      <td>-1461.093061</td>\n",
       "      <td>28026.085525</td>\n",
       "      <td>-3959.767549</td>\n",
       "      <td>0</td>\n",
       "    </tr>\n",
       "    <tr>\n",
       "      <th>26</th>\n",
       "      <td>-10583.521489</td>\n",
       "      <td>-10145.003880</td>\n",
       "      <td>-24243.775722</td>\n",
       "      <td>-10574.016380</td>\n",
       "      <td>-10147.909472</td>\n",
       "      <td>-24270.149411</td>\n",
       "      <td>0</td>\n",
       "    </tr>\n",
       "  </tbody>\n",
       "</table>\n",
       "</div>"
      ],
      "text/plain": [
       "               x             y             z         x_sim         y_sim  \\\n",
       "id                                                                         \n",
       "1  -10567.672384   1619.746066 -24451.813271 -10555.500066   1649.289367   \n",
       "4   -6719.092336 -28929.061629 -14938.907967  -6729.358857 -28902.271436   \n",
       "15  17281.246143  -2011.121378  39970.739873  17241.395285  -2016.770194   \n",
       "22  -1447.724638  28032.228987  -3918.192838  -1461.093061  28026.085525   \n",
       "26 -10583.521489 -10145.003880 -24243.775722 -10574.016380 -10147.909472   \n",
       "\n",
       "           z_sim  sat_id  \n",
       "id                        \n",
       "1  -24473.089556       0  \n",
       "4  -14992.399986       0  \n",
       "15  39958.759155       0  \n",
       "22  -3959.767549       0  \n",
       "26 -24270.149411       0  "
      ]
     },
     "execution_count": 7,
     "metadata": {},
     "output_type": "execute_result"
    }
   ],
   "source": [
    "train_mydata = mydata.sample(frac=0.8,random_state=0)\n",
    "test_mydata = mydata.drop(train_mydata.index)\n",
    "test_mydata.head()"
   ]
  },
  {
   "cell_type": "code",
   "execution_count": 8,
   "metadata": {
    "colab": {
     "base_uri": "https://localhost:8080/",
     "height": 255
    },
    "colab_type": "code",
    "id": "JSfCvDt7HjKZ",
    "outputId": "5684a04b-a1bf-429b-d738-1a57b3950811"
   },
   "outputs": [
    {
     "name": "stdout",
     "output_type": "stream",
     "text": [
      "(519930, 7) (129982, 7)\n"
     ]
    },
    {
     "data": {
      "text/html": [
       "<div>\n",
       "<style scoped>\n",
       "    .dataframe tbody tr th:only-of-type {\n",
       "        vertical-align: middle;\n",
       "    }\n",
       "\n",
       "    .dataframe tbody tr th {\n",
       "        vertical-align: top;\n",
       "    }\n",
       "\n",
       "    .dataframe thead th {\n",
       "        text-align: right;\n",
       "    }\n",
       "</style>\n",
       "<table border=\"1\" class=\"dataframe\">\n",
       "  <thead>\n",
       "    <tr style=\"text-align: right;\">\n",
       "      <th></th>\n",
       "      <th>x</th>\n",
       "      <th>y</th>\n",
       "      <th>z</th>\n",
       "      <th>x_sim</th>\n",
       "      <th>y_sim</th>\n",
       "      <th>z_sim</th>\n",
       "      <th>sat_id</th>\n",
       "    </tr>\n",
       "    <tr>\n",
       "      <th>id</th>\n",
       "      <th></th>\n",
       "      <th></th>\n",
       "      <th></th>\n",
       "      <th></th>\n",
       "      <th></th>\n",
       "      <th></th>\n",
       "      <th></th>\n",
       "    </tr>\n",
       "  </thead>\n",
       "  <tbody>\n",
       "    <tr>\n",
       "      <th>162906</th>\n",
       "      <td>-22445.306373</td>\n",
       "      <td>5848.139687</td>\n",
       "      <td>805.906588</td>\n",
       "      <td>-21786.206588</td>\n",
       "      <td>7375.036638</td>\n",
       "      <td>391.178832</td>\n",
       "      <td>81</td>\n",
       "    </tr>\n",
       "    <tr>\n",
       "      <th>123662</th>\n",
       "      <td>-9086.781838</td>\n",
       "      <td>7654.307240</td>\n",
       "      <td>-6721.299832</td>\n",
       "      <td>-9545.479053</td>\n",
       "      <td>7482.025507</td>\n",
       "      <td>-6387.708079</td>\n",
       "      <td>60</td>\n",
       "    </tr>\n",
       "    <tr>\n",
       "      <th>901720</th>\n",
       "      <td>-33475.100342</td>\n",
       "      <td>-37591.455624</td>\n",
       "      <td>-3269.507831</td>\n",
       "      <td>-33263.131053</td>\n",
       "      <td>-37783.198553</td>\n",
       "      <td>-3617.165346</td>\n",
       "      <td>449</td>\n",
       "    </tr>\n",
       "    <tr>\n",
       "      <th>308669</th>\n",
       "      <td>11617.034853</td>\n",
       "      <td>2343.826977</td>\n",
       "      <td>-1821.565305</td>\n",
       "      <td>10718.558812</td>\n",
       "      <td>5174.769686</td>\n",
       "      <td>-1069.308627</td>\n",
       "      <td>166</td>\n",
       "    </tr>\n",
       "    <tr>\n",
       "      <th>1154759</th>\n",
       "      <td>25113.931453</td>\n",
       "      <td>-473.679010</td>\n",
       "      <td>41867.498593</td>\n",
       "      <td>19229.123354</td>\n",
       "      <td>12147.342145</td>\n",
       "      <td>31835.248429</td>\n",
       "      <td>560</td>\n",
       "    </tr>\n",
       "  </tbody>\n",
       "</table>\n",
       "</div>"
      ],
      "text/plain": [
       "                    x             y             z         x_sim         y_sim  \\\n",
       "id                                                                              \n",
       "162906  -22445.306373   5848.139687    805.906588 -21786.206588   7375.036638   \n",
       "123662   -9086.781838   7654.307240  -6721.299832  -9545.479053   7482.025507   \n",
       "901720  -33475.100342 -37591.455624  -3269.507831 -33263.131053 -37783.198553   \n",
       "308669   11617.034853   2343.826977  -1821.565305  10718.558812   5174.769686   \n",
       "1154759  25113.931453   -473.679010  41867.498593  19229.123354  12147.342145   \n",
       "\n",
       "                z_sim  sat_id  \n",
       "id                             \n",
       "162906     391.178832      81  \n",
       "123662   -6387.708079      60  \n",
       "901720   -3617.165346     449  \n",
       "308669   -1069.308627     166  \n",
       "1154759  31835.248429     560  "
      ]
     },
     "execution_count": 8,
     "metadata": {},
     "output_type": "execute_result"
    }
   ],
   "source": [
    "#a=train_mydata.shape\n",
    "#b=test_mydata.shape\n",
    "#print(a,b)\n",
    "print(train_mydata.shape, test_mydata.shape)\n",
    "train_mydata.head()"
   ]
  },
  {
   "cell_type": "code",
   "execution_count": 9,
   "metadata": {
    "colab": {
     "base_uri": "https://localhost:8080/",
     "height": 175
    },
    "colab_type": "code",
    "id": "W3AMDSXnHqTE",
    "outputId": "07af24c8-5fbf-4178-e7e6-ae3149e687da"
   },
   "outputs": [
    {
     "data": {
      "text/html": [
       "<div>\n",
       "<style scoped>\n",
       "    .dataframe tbody tr th:only-of-type {\n",
       "        vertical-align: middle;\n",
       "    }\n",
       "\n",
       "    .dataframe tbody tr th {\n",
       "        vertical-align: top;\n",
       "    }\n",
       "\n",
       "    .dataframe thead th {\n",
       "        text-align: right;\n",
       "    }\n",
       "</style>\n",
       "<table border=\"1\" class=\"dataframe\">\n",
       "  <thead>\n",
       "    <tr style=\"text-align: right;\">\n",
       "      <th></th>\n",
       "      <th>count</th>\n",
       "      <th>mean</th>\n",
       "      <th>std</th>\n",
       "      <th>min</th>\n",
       "      <th>25%</th>\n",
       "      <th>50%</th>\n",
       "      <th>75%</th>\n",
       "      <th>max</th>\n",
       "    </tr>\n",
       "  </thead>\n",
       "  <tbody>\n",
       "    <tr>\n",
       "      <th>x_sim</th>\n",
       "      <td>519930.0</td>\n",
       "      <td>-941.331006</td>\n",
       "      <td>25387.037253</td>\n",
       "      <td>-255037.952966</td>\n",
       "      <td>-13139.771199</td>\n",
       "      <td>-612.877803</td>\n",
       "      <td>11194.372299</td>\n",
       "      <td>200961.158000</td>\n",
       "    </tr>\n",
       "    <tr>\n",
       "      <th>y_sim</th>\n",
       "      <td>519930.0</td>\n",
       "      <td>319.853163</td>\n",
       "      <td>25603.245579</td>\n",
       "      <td>-281784.430040</td>\n",
       "      <td>-11758.892200</td>\n",
       "      <td>501.609913</td>\n",
       "      <td>12558.620911</td>\n",
       "      <td>209619.553857</td>\n",
       "    </tr>\n",
       "    <tr>\n",
       "      <th>z_sim</th>\n",
       "      <td>519930.0</td>\n",
       "      <td>-77.075471</td>\n",
       "      <td>20670.833347</td>\n",
       "      <td>-180250.922287</td>\n",
       "      <td>-7963.461284</td>\n",
       "      <td>57.093264</td>\n",
       "      <td>8253.028193</td>\n",
       "      <td>198526.091552</td>\n",
       "    </tr>\n",
       "    <tr>\n",
       "      <th>sat_id</th>\n",
       "      <td>519930.0</td>\n",
       "      <td>308.718101</td>\n",
       "      <td>171.427627</td>\n",
       "      <td>0.000000</td>\n",
       "      <td>166.000000</td>\n",
       "      <td>312.000000</td>\n",
       "      <td>461.000000</td>\n",
       "      <td>599.000000</td>\n",
       "    </tr>\n",
       "  </tbody>\n",
       "</table>\n",
       "</div>"
      ],
      "text/plain": [
       "           count        mean           std            min           25%  \\\n",
       "x_sim   519930.0 -941.331006  25387.037253 -255037.952966 -13139.771199   \n",
       "y_sim   519930.0  319.853163  25603.245579 -281784.430040 -11758.892200   \n",
       "z_sim   519930.0  -77.075471  20670.833347 -180250.922287  -7963.461284   \n",
       "sat_id  519930.0  308.718101    171.427627       0.000000    166.000000   \n",
       "\n",
       "               50%           75%            max  \n",
       "x_sim  -612.877803  11194.372299  200961.158000  \n",
       "y_sim   501.609913  12558.620911  209619.553857  \n",
       "z_sim    57.093264   8253.028193  198526.091552  \n",
       "sat_id  312.000000    461.000000     599.000000  "
      ]
     },
     "execution_count": 9,
     "metadata": {},
     "output_type": "execute_result"
    }
   ],
   "source": [
    "label=['Vx','Vy','Vz','x','y','z'][3:]\n",
    "train_stats = train_mydata.describe()\n",
    "for i in label:\n",
    "  train_stats.pop(i)\n",
    "train_stats = train_stats.transpose()\n",
    "train_stats"
   ]
  },
  {
   "cell_type": "code",
   "execution_count": 10,
   "metadata": {
    "colab": {},
    "colab_type": "code",
    "id": "SXvnA1GRH-uU"
   },
   "outputs": [],
   "source": [
    "train_labels =train_mydata[label]\n",
    "test_labels = test_mydata[label]"
   ]
  },
  {
   "cell_type": "code",
   "execution_count": 11,
   "metadata": {
    "colab": {
     "base_uri": "https://localhost:8080/",
     "height": 34
    },
    "colab_type": "code",
    "id": "5rNeN83iIgvv",
    "outputId": "0e52b259-25d3-44c1-9ceb-ae5b3f706277"
   },
   "outputs": [
    {
     "name": "stdout",
     "output_type": "stream",
     "text": [
      "                    x             y             z\n",
      "id                                               \n",
      "162906  -22445.306373   5848.139687    805.906588\n",
      "123662   -9086.781838   7654.307240  -6721.299832\n",
      "901720  -33475.100342 -37591.455624  -3269.507831\n",
      "308669   11617.034853   2343.826977  -1821.565305\n",
      "1154759  25113.931453   -473.679010  41867.498593                x             y             z\n",
      "id                                          \n",
      "1  -10567.672384   1619.746066 -24451.813271\n",
      "4   -6719.092336 -28929.061629 -14938.907967\n",
      "15  17281.246143  -2011.121378  39970.739873\n",
      "22  -1447.724638  28032.228987  -3918.192838\n",
      "26 -10583.521489 -10145.003880 -24243.775722\n"
     ]
    }
   ],
   "source": [
    "print(train_labels.head(), test_labels.head())"
   ]
  },
  {
   "cell_type": "code",
   "execution_count": 12,
   "metadata": {},
   "outputs": [],
   "source": [
    "def norm(x):\n",
    "  try:\n",
    "    return (x - train_stats['mean']) / train_stats['std']\n",
    "  except:\n",
    "    print(x)"
   ]
  },
  {
   "cell_type": "code",
   "execution_count": 13,
   "metadata": {
    "colab": {},
    "colab_type": "code",
    "id": "q4o1j-ryJ8oL"
   },
   "outputs": [],
   "source": [
    "normed_train_data = norm(train_mydata.drop(label, axis=1))\n",
    "normed_test_data = norm(test_mydata.drop(label, axis=1))"
   ]
  },
  {
   "cell_type": "code",
   "execution_count": 14,
   "metadata": {
    "colab": {
     "base_uri": "https://localhost:8080/",
     "height": 175
    },
    "colab_type": "code",
    "id": "9dOPEYESOYdN",
    "outputId": "cdfd82c2-c849-4fb4-8b5f-edbf79ceccd8"
   },
   "outputs": [
    {
     "data": {
      "text/html": [
       "<div>\n",
       "<style scoped>\n",
       "    .dataframe tbody tr th:only-of-type {\n",
       "        vertical-align: middle;\n",
       "    }\n",
       "\n",
       "    .dataframe tbody tr th {\n",
       "        vertical-align: top;\n",
       "    }\n",
       "\n",
       "    .dataframe thead th {\n",
       "        text-align: right;\n",
       "    }\n",
       "</style>\n",
       "<table border=\"1\" class=\"dataframe\">\n",
       "  <thead>\n",
       "    <tr style=\"text-align: right;\">\n",
       "      <th></th>\n",
       "      <th>count</th>\n",
       "      <th>mean</th>\n",
       "      <th>std</th>\n",
       "      <th>min</th>\n",
       "      <th>25%</th>\n",
       "      <th>50%</th>\n",
       "      <th>75%</th>\n",
       "      <th>max</th>\n",
       "    </tr>\n",
       "  </thead>\n",
       "  <tbody>\n",
       "    <tr>\n",
       "      <th>x_sim</th>\n",
       "      <td>129982.0</td>\n",
       "      <td>-0.001650</td>\n",
       "      <td>0.997447</td>\n",
       "      <td>-10.002493</td>\n",
       "      <td>-0.483600</td>\n",
       "      <td>0.011332</td>\n",
       "      <td>0.477304</td>\n",
       "      <td>7.940276</td>\n",
       "    </tr>\n",
       "    <tr>\n",
       "      <th>y_sim</th>\n",
       "      <td>129982.0</td>\n",
       "      <td>0.000919</td>\n",
       "      <td>1.000829</td>\n",
       "      <td>-11.059974</td>\n",
       "      <td>-0.467484</td>\n",
       "      <td>0.011119</td>\n",
       "      <td>0.476295</td>\n",
       "      <td>8.154777</td>\n",
       "    </tr>\n",
       "    <tr>\n",
       "      <th>z_sim</th>\n",
       "      <td>129982.0</td>\n",
       "      <td>-0.000651</td>\n",
       "      <td>0.999315</td>\n",
       "      <td>-8.628536</td>\n",
       "      <td>-0.380103</td>\n",
       "      <td>0.006436</td>\n",
       "      <td>0.399140</td>\n",
       "      <td>9.581585</td>\n",
       "    </tr>\n",
       "    <tr>\n",
       "      <th>sat_id</th>\n",
       "      <td>129982.0</td>\n",
       "      <td>0.000357</td>\n",
       "      <td>1.001616</td>\n",
       "      <td>-1.800866</td>\n",
       "      <td>-0.832527</td>\n",
       "      <td>0.019145</td>\n",
       "      <td>0.888316</td>\n",
       "      <td>1.693320</td>\n",
       "    </tr>\n",
       "  </tbody>\n",
       "</table>\n",
       "</div>"
      ],
      "text/plain": [
       "           count      mean       std        min       25%       50%       75%  \\\n",
       "x_sim   129982.0 -0.001650  0.997447 -10.002493 -0.483600  0.011332  0.477304   \n",
       "y_sim   129982.0  0.000919  1.000829 -11.059974 -0.467484  0.011119  0.476295   \n",
       "z_sim   129982.0 -0.000651  0.999315  -8.628536 -0.380103  0.006436  0.399140   \n",
       "sat_id  129982.0  0.000357  1.001616  -1.800866 -0.832527  0.019145  0.888316   \n",
       "\n",
       "             max  \n",
       "x_sim   7.940276  \n",
       "y_sim   8.154777  \n",
       "z_sim   9.581585  \n",
       "sat_id  1.693320  "
      ]
     },
     "execution_count": 14,
     "metadata": {},
     "output_type": "execute_result"
    }
   ],
   "source": [
    "a=normed_test_data.describe()\n",
    "a.transpose()"
   ]
  },
  {
   "cell_type": "code",
   "execution_count": 15,
   "metadata": {
    "colab": {
     "base_uri": "https://localhost:8080/",
     "height": 34
    },
    "colab_type": "code",
    "id": "FkGwXg52PbsC",
    "outputId": "2d7ec35c-355c-4922-c7d8-97ee562f3375"
   },
   "outputs": [
    {
     "data": {
      "text/plain": [
       "(129982, 4)"
      ]
     },
     "execution_count": 15,
     "metadata": {},
     "output_type": "execute_result"
    }
   ],
   "source": [
    "normed_test_data.shape"
   ]
  },
  {
   "cell_type": "code",
   "execution_count": 16,
   "metadata": {
    "colab": {
     "base_uri": "https://localhost:8080/",
     "height": 332
    },
    "colab_type": "code",
    "id": "jPKgbZmgQe3X",
    "outputId": "31f7a3da-37cd-490d-d90b-d52e745efdce"
   },
   "outputs": [
    {
     "name": "stdout",
     "output_type": "stream",
     "text": [
      "Model: \"sequential_1\"\n",
      "_________________________________________________________________\n",
      "Layer (type)                 Output Shape              Param #   \n",
      "=================================================================\n",
      "dense_1 (Dense)              (None, 128)               384       \n",
      "_________________________________________________________________\n",
      "dense_2 (Dense)              (None, 256)               33024     \n",
      "_________________________________________________________________\n",
      "dense_3 (Dense)              (None, 256)               65792     \n",
      "_________________________________________________________________\n",
      "dense_4 (Dense)              (None, 256)               65792     \n",
      "_________________________________________________________________\n",
      "dense_5 (Dense)              (None, 1)                 257       \n",
      "=================================================================\n",
      "Total params: 165,249\n",
      "Trainable params: 165,249\n",
      "Non-trainable params: 0\n",
      "_________________________________________________________________\n"
     ]
    }
   ],
   "source": [
    "NN_model = Sequential()\n",
    "\n",
    "# The Input Layer :\n",
    "NN_model.add(Dense(128, kernel_initializer='normal',input_dim = 2, activation='relu'))\n",
    "\n",
    "# The Hidden Layers :\n",
    "NN_model.add(Dense(256, kernel_initializer='normal',activation='relu'))\n",
    "NN_model.add(Dense(256, kernel_initializer='normal',activation='relu'))\n",
    "NN_model.add(Dense(256, kernel_initializer='normal',activation='relu'))\n",
    "\n",
    "# The Output Layer :\n",
    "NN_model.add(Dense(1, kernel_initializer='normal',activation='linear'))\n",
    "\n",
    "# Compile the network :\n",
    "NN_model.compile(loss='mean_absolute_error', optimizer='adam', metrics=['mean_absolute_error'])\n",
    "NN_model.summary()"
   ]
  },
  {
   "cell_type": "code",
   "execution_count": 17,
   "metadata": {},
   "outputs": [
    {
     "data": {
      "text/html": [
       "<div>\n",
       "<style scoped>\n",
       "    .dataframe tbody tr th:only-of-type {\n",
       "        vertical-align: middle;\n",
       "    }\n",
       "\n",
       "    .dataframe tbody tr th {\n",
       "        vertical-align: top;\n",
       "    }\n",
       "\n",
       "    .dataframe thead th {\n",
       "        text-align: right;\n",
       "    }\n",
       "</style>\n",
       "<table border=\"1\" class=\"dataframe\">\n",
       "  <thead>\n",
       "    <tr style=\"text-align: right;\">\n",
       "      <th></th>\n",
       "      <th>x</th>\n",
       "      <th>y</th>\n",
       "      <th>z</th>\n",
       "    </tr>\n",
       "    <tr>\n",
       "      <th>id</th>\n",
       "      <th></th>\n",
       "      <th></th>\n",
       "      <th></th>\n",
       "    </tr>\n",
       "  </thead>\n",
       "  <tbody>\n",
       "    <tr>\n",
       "      <th>162906</th>\n",
       "      <td>-22445.306373</td>\n",
       "      <td>5848.139687</td>\n",
       "      <td>805.906588</td>\n",
       "    </tr>\n",
       "    <tr>\n",
       "      <th>123662</th>\n",
       "      <td>-9086.781838</td>\n",
       "      <td>7654.307240</td>\n",
       "      <td>-6721.299832</td>\n",
       "    </tr>\n",
       "    <tr>\n",
       "      <th>901720</th>\n",
       "      <td>-33475.100342</td>\n",
       "      <td>-37591.455624</td>\n",
       "      <td>-3269.507831</td>\n",
       "    </tr>\n",
       "    <tr>\n",
       "      <th>308669</th>\n",
       "      <td>11617.034853</td>\n",
       "      <td>2343.826977</td>\n",
       "      <td>-1821.565305</td>\n",
       "    </tr>\n",
       "    <tr>\n",
       "      <th>1154759</th>\n",
       "      <td>25113.931453</td>\n",
       "      <td>-473.679010</td>\n",
       "      <td>41867.498593</td>\n",
       "    </tr>\n",
       "  </tbody>\n",
       "</table>\n",
       "</div>"
      ],
      "text/plain": [
       "                    x             y             z\n",
       "id                                               \n",
       "162906  -22445.306373   5848.139687    805.906588\n",
       "123662   -9086.781838   7654.307240  -6721.299832\n",
       "901720  -33475.100342 -37591.455624  -3269.507831\n",
       "308669   11617.034853   2343.826977  -1821.565305\n",
       "1154759  25113.931453   -473.679010  41867.498593"
      ]
     },
     "execution_count": 17,
     "metadata": {},
     "output_type": "execute_result"
    }
   ],
   "source": [
    "train_labels.head()"
   ]
  },
  {
   "cell_type": "code",
   "execution_count": 19,
   "metadata": {
    "colab": {
     "base_uri": "https://localhost:8080/",
     "height": 411
    },
    "colab_type": "code",
    "id": "2lj5Zbn1PYP1",
    "outputId": "0cc4c991-9c0e-4b04-d26f-aeea2410ae99"
   },
   "outputs": [
    {
     "name": "stdout",
     "output_type": "stream",
     "text": [
      "Train on 519930 samples, validate on 129982 samples\n",
      "Epoch 1/10\n",
      "519930/519930 [==============================] - 38s 72us/step - loss: 3142.0706 - mean_absolute_error: 3142.0740 - val_loss: 3125.9136 - val_mean_absolute_error: 3125.9080\n",
      "Epoch 2/10\n",
      "519930/519930 [==============================] - 38s 73us/step - loss: 3137.9510 - mean_absolute_error: 3137.9512 - val_loss: 3169.1665 - val_mean_absolute_error: 3169.1636\n",
      "Epoch 3/10\n",
      "519930/519930 [==============================] - 39s 75us/step - loss: 3137.1691 - mean_absolute_error: 3137.1775 - val_loss: 3197.9107 - val_mean_absolute_error: 3197.9138\n",
      "Epoch 4/10\n",
      "519930/519930 [==============================] - 38s 74us/step - loss: 3136.1201 - mean_absolute_error: 3136.1218 - val_loss: 3119.5875 - val_mean_absolute_error: 3119.5889\n",
      "Epoch 5/10\n",
      "519930/519930 [==============================] - 38s 73us/step - loss: 3134.6685 - mean_absolute_error: 3134.6663 - val_loss: 3123.4484 - val_mean_absolute_error: 3123.4468\n",
      "Epoch 6/10\n",
      "519930/519930 [==============================] - 39s 76us/step - loss: 3135.6203 - mean_absolute_error: 3135.6189 - val_loss: 3121.2709 - val_mean_absolute_error: 3121.2698\n",
      "Epoch 7/10\n",
      "519930/519930 [==============================] - 40s 77us/step - loss: 3134.1276 - mean_absolute_error: 3134.1279 - val_loss: 3146.9972 - val_mean_absolute_error: 3146.9934\n",
      "Epoch 8/10\n",
      "519930/519930 [==============================] - 40s 77us/step - loss: 3133.1037 - mean_absolute_error: 3133.1084 - val_loss: 3118.7424 - val_mean_absolute_error: 3118.7419\n",
      "Epoch 9/10\n",
      "519930/519930 [==============================] - 38s 74us/step - loss: 3133.4284 - mean_absolute_error: 3133.4419 - val_loss: 3132.1330 - val_mean_absolute_error: 3132.1321\n",
      "Epoch 10/10\n",
      "519930/519930 [==============================] - 38s 73us/step - loss: 3132.0146 - mean_absolute_error: 3132.0122 - val_loss: 3136.6713 - val_mean_absolute_error: 3136.6687\n"
     ]
    }
   ],
   "source": [
    "for i in label[0]:\n",
    "    NN_model.fit(normed_train_data[['sat_id',i+'_sim']], train_labels[i], validation_data=(normed_test_data[['sat_id',i+'_sim']], test_labels[i]), epochs=10)\n",
    "    test_predictions = NN_model.predict(normed_test_data[['sat_id',i+'_sim']])\n",
    "    test_mydata[i+'_pred']=test_predictions"
   ]
  },
  {
   "cell_type": "code",
   "execution_count": 20,
   "metadata": {},
   "outputs": [
    {
     "data": {
      "text/html": [
       "<div>\n",
       "<style scoped>\n",
       "    .dataframe tbody tr th:only-of-type {\n",
       "        vertical-align: middle;\n",
       "    }\n",
       "\n",
       "    .dataframe tbody tr th {\n",
       "        vertical-align: top;\n",
       "    }\n",
       "\n",
       "    .dataframe thead th {\n",
       "        text-align: right;\n",
       "    }\n",
       "</style>\n",
       "<table border=\"1\" class=\"dataframe\">\n",
       "  <thead>\n",
       "    <tr style=\"text-align: right;\">\n",
       "      <th></th>\n",
       "      <th>x</th>\n",
       "      <th>y</th>\n",
       "      <th>z</th>\n",
       "      <th>x_sim</th>\n",
       "      <th>y_sim</th>\n",
       "      <th>z_sim</th>\n",
       "      <th>sat_id</th>\n",
       "      <th>y_pred</th>\n",
       "      <th>z_pred</th>\n",
       "      <th>x_pred</th>\n",
       "    </tr>\n",
       "    <tr>\n",
       "      <th>id</th>\n",
       "      <th></th>\n",
       "      <th></th>\n",
       "      <th></th>\n",
       "      <th></th>\n",
       "      <th></th>\n",
       "      <th></th>\n",
       "      <th></th>\n",
       "      <th></th>\n",
       "      <th></th>\n",
       "      <th></th>\n",
       "    </tr>\n",
       "  </thead>\n",
       "  <tbody>\n",
       "    <tr>\n",
       "      <th>1</th>\n",
       "      <td>-10567.672384</td>\n",
       "      <td>1619.746066</td>\n",
       "      <td>-24451.813271</td>\n",
       "      <td>-10555.500066</td>\n",
       "      <td>1649.289367</td>\n",
       "      <td>-24473.089556</td>\n",
       "      <td>0</td>\n",
       "      <td>1699.232178</td>\n",
       "      <td>-24427.830078</td>\n",
       "      <td>-10729.541992</td>\n",
       "    </tr>\n",
       "    <tr>\n",
       "      <th>4</th>\n",
       "      <td>-6719.092336</td>\n",
       "      <td>-28929.061629</td>\n",
       "      <td>-14938.907967</td>\n",
       "      <td>-6729.358857</td>\n",
       "      <td>-28902.271436</td>\n",
       "      <td>-14992.399986</td>\n",
       "      <td>0</td>\n",
       "      <td>-28538.695312</td>\n",
       "      <td>-14938.091797</td>\n",
       "      <td>-6854.264648</td>\n",
       "    </tr>\n",
       "    <tr>\n",
       "      <th>15</th>\n",
       "      <td>17281.246143</td>\n",
       "      <td>-2011.121378</td>\n",
       "      <td>39970.739873</td>\n",
       "      <td>17241.395285</td>\n",
       "      <td>-2016.770194</td>\n",
       "      <td>39958.759155</td>\n",
       "      <td>0</td>\n",
       "      <td>-2046.540405</td>\n",
       "      <td>39941.507812</td>\n",
       "      <td>17365.035156</td>\n",
       "    </tr>\n",
       "    <tr>\n",
       "      <th>22</th>\n",
       "      <td>-1447.724638</td>\n",
       "      <td>28032.228987</td>\n",
       "      <td>-3918.192838</td>\n",
       "      <td>-1461.093061</td>\n",
       "      <td>28026.085525</td>\n",
       "      <td>-3959.767549</td>\n",
       "      <td>0</td>\n",
       "      <td>27811.888672</td>\n",
       "      <td>-3870.237061</td>\n",
       "      <td>-1399.343872</td>\n",
       "    </tr>\n",
       "    <tr>\n",
       "      <th>26</th>\n",
       "      <td>-10583.521489</td>\n",
       "      <td>-10145.003880</td>\n",
       "      <td>-24243.775722</td>\n",
       "      <td>-10574.016380</td>\n",
       "      <td>-10147.909472</td>\n",
       "      <td>-24270.149411</td>\n",
       "      <td>0</td>\n",
       "      <td>-9931.518555</td>\n",
       "      <td>-24224.523438</td>\n",
       "      <td>-10748.294922</td>\n",
       "    </tr>\n",
       "  </tbody>\n",
       "</table>\n",
       "</div>"
      ],
      "text/plain": [
       "               x             y             z         x_sim         y_sim  \\\n",
       "id                                                                         \n",
       "1  -10567.672384   1619.746066 -24451.813271 -10555.500066   1649.289367   \n",
       "4   -6719.092336 -28929.061629 -14938.907967  -6729.358857 -28902.271436   \n",
       "15  17281.246143  -2011.121378  39970.739873  17241.395285  -2016.770194   \n",
       "22  -1447.724638  28032.228987  -3918.192838  -1461.093061  28026.085525   \n",
       "26 -10583.521489 -10145.003880 -24243.775722 -10574.016380 -10147.909472   \n",
       "\n",
       "           z_sim  sat_id        y_pred        z_pred        x_pred  \n",
       "id                                                                  \n",
       "1  -24473.089556       0   1699.232178 -24427.830078 -10729.541992  \n",
       "4  -14992.399986       0 -28538.695312 -14938.091797  -6854.264648  \n",
       "15  39958.759155       0  -2046.540405  39941.507812  17365.035156  \n",
       "22  -3959.767549       0  27811.888672  -3870.237061  -1399.343872  \n",
       "26 -24270.149411       0  -9931.518555 -24224.523438 -10748.294922  "
      ]
     },
     "execution_count": 20,
     "metadata": {},
     "output_type": "execute_result"
    }
   ],
   "source": [
    "test_mydata.head()"
   ]
  },
  {
   "cell_type": "code",
   "execution_count": 21,
   "metadata": {},
   "outputs": [],
   "source": [
    "def smape(satellite_predicted_values, satellite_true_values):\n",
    "    return np.mean(np.abs((satellite_predicted_values - satellite_true_values)/(np.abs(satellite_predicted_values) + np.abs(satellite_true_values))))"
   ]
  },
  {
   "cell_type": "code",
   "execution_count": 22,
   "metadata": {},
   "outputs": [
    {
     "name": "stdout",
     "output_type": "stream",
     "text": [
      "smape real vs _sim : 0.184052\n",
      "smape real vs _pred : 0.185913\n"
     ]
    }
   ],
   "source": [
    "for i in ['_sim', '_pred']:\n",
    "    real=test_mydata[label].values\n",
    "    comp=test_mydata[[j+i for j in label]].values\n",
    "    print('smape real vs %s : %f'%(i, smape(real, comp)))"
   ]
  },
  {
   "cell_type": "code",
   "execution_count": null,
   "metadata": {},
   "outputs": [],
   "source": []
  }
 ],
 "metadata": {
  "colab": {
   "name": "2.IDAO2020",
   "provenance": []
  },
  "kernelspec": {
   "display_name": "Python 3",
   "language": "python",
   "name": "python3"
  },
  "language_info": {
   "codemirror_mode": {
    "name": "ipython",
    "version": 3
   },
   "file_extension": ".py",
   "mimetype": "text/x-python",
   "name": "python",
   "nbconvert_exporter": "python",
   "pygments_lexer": "ipython3",
   "version": "3.7.3"
  }
 },
 "nbformat": 4,
 "nbformat_minor": 1
}
